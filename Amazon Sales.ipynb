{
 "cells": [
  {
   "cell_type": "code",
   "execution_count": 70,
   "id": "6e96b0d6-cd94-44aa-8c1e-82832b4d1ae4",
   "metadata": {},
   "outputs": [],
   "source": [
    "import pandas as pd\n",
    "import numpy as np\n",
    "import matplotlib.pyplot as plt\n",
    "import seaborn as sea"
   ]
  },
  {
   "cell_type": "code",
   "execution_count": 71,
   "id": "b99bd011-7784-4329-96a9-dd2a76a25860",
   "metadata": {},
   "outputs": [],
   "source": [
    "df = pd.read_csv('amazon.csv',encoding = 'unicode_escape')"
   ]
  },
  {
   "cell_type": "code",
   "execution_count": 72,
   "id": "9bac1494-4e2c-48da-85f6-19a3ce7bcfde",
   "metadata": {},
   "outputs": [
    {
     "data": {
      "text/plain": [
       "(1465, 16)"
      ]
     },
     "execution_count": 72,
     "metadata": {},
     "output_type": "execute_result"
    }
   ],
   "source": [
    "df.shape"
   ]
  },
  {
   "cell_type": "code",
   "execution_count": 73,
   "id": "51e16c81-ad3a-48e5-b5cd-1ed8bac0cc6d",
   "metadata": {},
   "outputs": [
    {
     "data": {
      "text/html": [
       "<div>\n",
       "<style scoped>\n",
       "    .dataframe tbody tr th:only-of-type {\n",
       "        vertical-align: middle;\n",
       "    }\n",
       "\n",
       "    .dataframe tbody tr th {\n",
       "        vertical-align: top;\n",
       "    }\n",
       "\n",
       "    .dataframe thead th {\n",
       "        text-align: right;\n",
       "    }\n",
       "</style>\n",
       "<table border=\"1\" class=\"dataframe\">\n",
       "  <thead>\n",
       "    <tr style=\"text-align: right;\">\n",
       "      <th></th>\n",
       "      <th>product_id</th>\n",
       "      <th>product_name</th>\n",
       "      <th>category</th>\n",
       "      <th>discounted_price</th>\n",
       "      <th>actual_price</th>\n",
       "      <th>discount_percentage</th>\n",
       "      <th>rating</th>\n",
       "      <th>rating_count</th>\n",
       "      <th>about_product</th>\n",
       "      <th>user_id</th>\n",
       "      <th>user_name</th>\n",
       "      <th>review_id</th>\n",
       "      <th>review_title</th>\n",
       "      <th>review_content</th>\n",
       "      <th>img_link</th>\n",
       "      <th>product_link</th>\n",
       "    </tr>\n",
       "  </thead>\n",
       "  <tbody>\n",
       "    <tr>\n",
       "      <th>0</th>\n",
       "      <td>B07JW9H4J1</td>\n",
       "      <td>Wayona Nylon Braided USB to Lightning Fast Cha...</td>\n",
       "      <td>Computers&amp;Accessories|Accessories&amp;Peripherals|...</td>\n",
       "      <td>â¹399</td>\n",
       "      <td>â¹1,099</td>\n",
       "      <td>64%</td>\n",
       "      <td>4.2</td>\n",
       "      <td>24,269</td>\n",
       "      <td>High Compatibility : Compatible With iPhone 12...</td>\n",
       "      <td>AG3D6O4STAQKAY2UVGEUV46KN35Q,AHMY5CWJMMK5BJRBB...</td>\n",
       "      <td>Manav,Adarsh gupta,Sundeep,S.Sayeed Ahmed,jasp...</td>\n",
       "      <td>R3HXWT0LRP0NMF,R2AJM3LFTLZHFO,R6AQJGUP6P86,R1K...</td>\n",
       "      <td>Satisfied,Charging is really fast,Value for mo...</td>\n",
       "      <td>Looks durable Charging is fine tooNo complains...</td>\n",
       "      <td>https://m.media-amazon.com/images/W/WEBP_40237...</td>\n",
       "      <td>https://www.amazon.in/Wayona-Braided-WN3LG1-Sy...</td>\n",
       "    </tr>\n",
       "    <tr>\n",
       "      <th>1</th>\n",
       "      <td>B098NS6PVG</td>\n",
       "      <td>Ambrane Unbreakable 60W / 3A Fast Charging 1.5...</td>\n",
       "      <td>Computers&amp;Accessories|Accessories&amp;Peripherals|...</td>\n",
       "      <td>â¹199</td>\n",
       "      <td>â¹349</td>\n",
       "      <td>43%</td>\n",
       "      <td>4.0</td>\n",
       "      <td>43,994</td>\n",
       "      <td>Compatible with all Type C enabled devices, be...</td>\n",
       "      <td>AECPFYFQVRUWC3KGNLJIOREFP5LQ,AGYYVPDD7YG7FYNBX...</td>\n",
       "      <td>ArdKn,Nirbhay kumar,Sagar Viswanathan,Asp,Plac...</td>\n",
       "      <td>RGIQEG07R9HS2,R1SMWZQ86XIN8U,R2J3Y1WL29GWDE,RY...</td>\n",
       "      <td>A Good Braided Cable for Your Type C Device,Go...</td>\n",
       "      <td>I ordered this cable to connect my phone to An...</td>\n",
       "      <td>https://m.media-amazon.com/images/W/WEBP_40237...</td>\n",
       "      <td>https://www.amazon.in/Ambrane-Unbreakable-Char...</td>\n",
       "    </tr>\n",
       "    <tr>\n",
       "      <th>2</th>\n",
       "      <td>B096MSW6CT</td>\n",
       "      <td>Sounce Fast Phone Charging Cable &amp; Data Sync U...</td>\n",
       "      <td>Computers&amp;Accessories|Accessories&amp;Peripherals|...</td>\n",
       "      <td>â¹199</td>\n",
       "      <td>â¹1,899</td>\n",
       "      <td>90%</td>\n",
       "      <td>3.9</td>\n",
       "      <td>7,928</td>\n",
       "      <td>ã Fast Charger&amp; Data Syncã-With built-in s...</td>\n",
       "      <td>AGU3BBQ2V2DDAMOAKGFAWDDQ6QHA,AESFLDV2PT363T2AQ...</td>\n",
       "      <td>Kunal,Himanshu,viswanath,sai niharka,saqib mal...</td>\n",
       "      <td>R3J3EQQ9TZI5ZJ,R3E7WBGK7ID0KV,RWU79XKQ6I1QF,R2...</td>\n",
       "      <td>Good speed for earlier versions,Good Product,W...</td>\n",
       "      <td>Not quite durable and sturdy,https://m.media-a...</td>\n",
       "      <td>https://m.media-amazon.com/images/W/WEBP_40237...</td>\n",
       "      <td>https://www.amazon.in/Sounce-iPhone-Charging-C...</td>\n",
       "    </tr>\n",
       "    <tr>\n",
       "      <th>3</th>\n",
       "      <td>B08HDJ86NZ</td>\n",
       "      <td>boAt Deuce USB 300 2 in 1 Type-C &amp; Micro USB S...</td>\n",
       "      <td>Computers&amp;Accessories|Accessories&amp;Peripherals|...</td>\n",
       "      <td>â¹329</td>\n",
       "      <td>â¹699</td>\n",
       "      <td>53%</td>\n",
       "      <td>4.2</td>\n",
       "      <td>94,363</td>\n",
       "      <td>The boAt Deuce USB 300 2 in 1 cable is compati...</td>\n",
       "      <td>AEWAZDZZJLQUYVOVGBEUKSLXHQ5A,AG5HTSFRRE6NL3M5S...</td>\n",
       "      <td>Omkar dhale,JD,HEMALATHA,Ajwadh a.,amar singh ...</td>\n",
       "      <td>R3EEUZKKK9J36I,R3HJVYCLYOY554,REDECAZ7AMPQC,R1...</td>\n",
       "      <td>Good product,Good one,Nice,Really nice product...</td>\n",
       "      <td>Good product,long wire,Charges good,Nice,I bou...</td>\n",
       "      <td>https://m.media-amazon.com/images/I/41V5FtEWPk...</td>\n",
       "      <td>https://www.amazon.in/Deuce-300-Resistant-Tang...</td>\n",
       "    </tr>\n",
       "    <tr>\n",
       "      <th>4</th>\n",
       "      <td>B08CF3B7N1</td>\n",
       "      <td>Portronics Konnect L 1.2M Fast Charging 3A 8 P...</td>\n",
       "      <td>Computers&amp;Accessories|Accessories&amp;Peripherals|...</td>\n",
       "      <td>â¹154</td>\n",
       "      <td>â¹399</td>\n",
       "      <td>61%</td>\n",
       "      <td>4.2</td>\n",
       "      <td>16,905</td>\n",
       "      <td>[CHARGE &amp; SYNC FUNCTION]- This cable comes wit...</td>\n",
       "      <td>AE3Q6KSUK5P75D5HFYHCRAOLODSA,AFUGIFH5ZAFXRDSZH...</td>\n",
       "      <td>rahuls6099,Swasat Borah,Ajay Wadke,Pranali,RVK...</td>\n",
       "      <td>R1BP4L2HH9TFUP,R16PVJEXKV6QZS,R2UPDB81N66T4P,R...</td>\n",
       "      <td>As good as original,Decent,Good one for second...</td>\n",
       "      <td>Bought this instead of original apple, does th...</td>\n",
       "      <td>https://m.media-amazon.com/images/W/WEBP_40237...</td>\n",
       "      <td>https://www.amazon.in/Portronics-Konnect-POR-1...</td>\n",
       "    </tr>\n",
       "  </tbody>\n",
       "</table>\n",
       "</div>"
      ],
      "text/plain": [
       "   product_id                                       product_name  \\\n",
       "0  B07JW9H4J1  Wayona Nylon Braided USB to Lightning Fast Cha...   \n",
       "1  B098NS6PVG  Ambrane Unbreakable 60W / 3A Fast Charging 1.5...   \n",
       "2  B096MSW6CT  Sounce Fast Phone Charging Cable & Data Sync U...   \n",
       "3  B08HDJ86NZ  boAt Deuce USB 300 2 in 1 Type-C & Micro USB S...   \n",
       "4  B08CF3B7N1  Portronics Konnect L 1.2M Fast Charging 3A 8 P...   \n",
       "\n",
       "                                            category discounted_price  \\\n",
       "0  Computers&Accessories|Accessories&Peripherals|...           â¹399   \n",
       "1  Computers&Accessories|Accessories&Peripherals|...           â¹199   \n",
       "2  Computers&Accessories|Accessories&Peripherals|...           â¹199   \n",
       "3  Computers&Accessories|Accessories&Peripherals|...           â¹329   \n",
       "4  Computers&Accessories|Accessories&Peripherals|...           â¹154   \n",
       "\n",
       "  actual_price discount_percentage rating rating_count  \\\n",
       "0     â¹1,099                 64%    4.2       24,269   \n",
       "1       â¹349                 43%    4.0       43,994   \n",
       "2     â¹1,899                 90%    3.9        7,928   \n",
       "3       â¹699                 53%    4.2       94,363   \n",
       "4       â¹399                 61%    4.2       16,905   \n",
       "\n",
       "                                       about_product  \\\n",
       "0  High Compatibility : Compatible With iPhone 12...   \n",
       "1  Compatible with all Type C enabled devices, be...   \n",
       "2  ã Fast Charger& Data Syncã-With built-in s...   \n",
       "3  The boAt Deuce USB 300 2 in 1 cable is compati...   \n",
       "4  [CHARGE & SYNC FUNCTION]- This cable comes wit...   \n",
       "\n",
       "                                             user_id  \\\n",
       "0  AG3D6O4STAQKAY2UVGEUV46KN35Q,AHMY5CWJMMK5BJRBB...   \n",
       "1  AECPFYFQVRUWC3KGNLJIOREFP5LQ,AGYYVPDD7YG7FYNBX...   \n",
       "2  AGU3BBQ2V2DDAMOAKGFAWDDQ6QHA,AESFLDV2PT363T2AQ...   \n",
       "3  AEWAZDZZJLQUYVOVGBEUKSLXHQ5A,AG5HTSFRRE6NL3M5S...   \n",
       "4  AE3Q6KSUK5P75D5HFYHCRAOLODSA,AFUGIFH5ZAFXRDSZH...   \n",
       "\n",
       "                                           user_name  \\\n",
       "0  Manav,Adarsh gupta,Sundeep,S.Sayeed Ahmed,jasp...   \n",
       "1  ArdKn,Nirbhay kumar,Sagar Viswanathan,Asp,Plac...   \n",
       "2  Kunal,Himanshu,viswanath,sai niharka,saqib mal...   \n",
       "3  Omkar dhale,JD,HEMALATHA,Ajwadh a.,amar singh ...   \n",
       "4  rahuls6099,Swasat Borah,Ajay Wadke,Pranali,RVK...   \n",
       "\n",
       "                                           review_id  \\\n",
       "0  R3HXWT0LRP0NMF,R2AJM3LFTLZHFO,R6AQJGUP6P86,R1K...   \n",
       "1  RGIQEG07R9HS2,R1SMWZQ86XIN8U,R2J3Y1WL29GWDE,RY...   \n",
       "2  R3J3EQQ9TZI5ZJ,R3E7WBGK7ID0KV,RWU79XKQ6I1QF,R2...   \n",
       "3  R3EEUZKKK9J36I,R3HJVYCLYOY554,REDECAZ7AMPQC,R1...   \n",
       "4  R1BP4L2HH9TFUP,R16PVJEXKV6QZS,R2UPDB81N66T4P,R...   \n",
       "\n",
       "                                        review_title  \\\n",
       "0  Satisfied,Charging is really fast,Value for mo...   \n",
       "1  A Good Braided Cable for Your Type C Device,Go...   \n",
       "2  Good speed for earlier versions,Good Product,W...   \n",
       "3  Good product,Good one,Nice,Really nice product...   \n",
       "4  As good as original,Decent,Good one for second...   \n",
       "\n",
       "                                      review_content  \\\n",
       "0  Looks durable Charging is fine tooNo complains...   \n",
       "1  I ordered this cable to connect my phone to An...   \n",
       "2  Not quite durable and sturdy,https://m.media-a...   \n",
       "3  Good product,long wire,Charges good,Nice,I bou...   \n",
       "4  Bought this instead of original apple, does th...   \n",
       "\n",
       "                                            img_link  \\\n",
       "0  https://m.media-amazon.com/images/W/WEBP_40237...   \n",
       "1  https://m.media-amazon.com/images/W/WEBP_40237...   \n",
       "2  https://m.media-amazon.com/images/W/WEBP_40237...   \n",
       "3  https://m.media-amazon.com/images/I/41V5FtEWPk...   \n",
       "4  https://m.media-amazon.com/images/W/WEBP_40237...   \n",
       "\n",
       "                                        product_link  \n",
       "0  https://www.amazon.in/Wayona-Braided-WN3LG1-Sy...  \n",
       "1  https://www.amazon.in/Ambrane-Unbreakable-Char...  \n",
       "2  https://www.amazon.in/Sounce-iPhone-Charging-C...  \n",
       "3  https://www.amazon.in/Deuce-300-Resistant-Tang...  \n",
       "4  https://www.amazon.in/Portronics-Konnect-POR-1...  "
      ]
     },
     "execution_count": 73,
     "metadata": {},
     "output_type": "execute_result"
    }
   ],
   "source": [
    "df.head()"
   ]
  },
  {
   "cell_type": "code",
   "execution_count": 74,
   "id": "537fd8c7-60c3-4cb7-b1df-ceba83f80e81",
   "metadata": {},
   "outputs": [
    {
     "data": {
      "text/plain": [
       "Index(['Product ID', 'Product Name', 'Category', 'Discounted Price',\n",
       "       'Actual Price', 'Discount Percentage', 'Ratings', 'Total Ratings',\n",
       "       'about_product', 'user_id', 'user_name', 'review_id', 'review_title',\n",
       "       'review_content', 'img_link', 'product_link'],\n",
       "      dtype='object')"
      ]
     },
     "execution_count": 74,
     "metadata": {},
     "output_type": "execute_result"
    }
   ],
   "source": [
    "df.rename(columns={'product_id': 'Product ID', 'product_name': 'Product Name','category':'Category','discounted_price':'Discounted Price','actual_price':'Actual Price','discount_percentage':'Discount Percentage','rating':'Ratings','rating_count':'Total Ratings'}, inplace=True)\n",
    "df.columns"
   ]
  },
  {
   "cell_type": "code",
   "execution_count": 75,
   "id": "c0e2209d-d26b-4da5-8571-616f1a0bc78c",
   "metadata": {},
   "outputs": [
    {
     "name": "stdout",
     "output_type": "stream",
     "text": [
      "  Discounted Price Actual Price Total Ratings\n",
      "0              399         1099         24269\n",
      "1              199          349         43994\n",
      "2              199         1899          7928\n",
      "3              329          699         94363\n",
      "4              154          399         16905\n"
     ]
    }
   ],
   "source": [
    "# Clean the columns by removing unwanted characters and convert to integer data type\n",
    "df['Discounted Price'] = df['Discounted Price'].str.replace('â¹', '').str.replace(',','')\n",
    "df['Actual Price'] = df['Actual Price'].str.replace('â¹', '').str.replace(',','')\n",
    "df['Total Ratings'] = df['Total Ratings'].str.replace(',', '')\n",
    "\n",
    "# Display the DataFrame to confirm the changes\n",
    "print(df[['Discounted Price', 'Actual Price','Total Ratings']].head())\n",
    "\n"
   ]
  },
  {
   "cell_type": "code",
   "execution_count": 76,
   "id": "b8d59a4d-fdfd-4c74-aaec-e2ce9e78ace4",
   "metadata": {},
   "outputs": [
    {
     "name": "stdout",
     "output_type": "stream",
     "text": [
      "<class 'pandas.core.frame.DataFrame'>\n",
      "RangeIndex: 1465 entries, 0 to 1464\n",
      "Data columns (total 16 columns):\n",
      " #   Column               Non-Null Count  Dtype \n",
      "---  ------               --------------  ----- \n",
      " 0   Product ID           1465 non-null   object\n",
      " 1   Product Name         1465 non-null   object\n",
      " 2   Category             1465 non-null   object\n",
      " 3   Discounted Price     1465 non-null   object\n",
      " 4   Actual Price         1465 non-null   object\n",
      " 5   Discount Percentage  1465 non-null   object\n",
      " 6   Ratings              1465 non-null   object\n",
      " 7   Total Ratings        1463 non-null   object\n",
      " 8   about_product        1465 non-null   object\n",
      " 9   user_id              1465 non-null   object\n",
      " 10  user_name            1465 non-null   object\n",
      " 11  review_id            1465 non-null   object\n",
      " 12  review_title         1465 non-null   object\n",
      " 13  review_content       1465 non-null   object\n",
      " 14  img_link             1465 non-null   object\n",
      " 15  product_link         1465 non-null   object\n",
      "dtypes: object(16)\n",
      "memory usage: 183.3+ KB\n"
     ]
    }
   ],
   "source": [
    "df.info()"
   ]
  },
  {
   "cell_type": "code",
   "execution_count": 77,
   "id": "e9081db1-9c82-47b9-9586-896614e6cb3f",
   "metadata": {},
   "outputs": [
    {
     "name": "stdout",
     "output_type": "stream",
     "text": [
      "Index(['Product ID', 'Product Name', 'Category', 'Discounted Price',\n",
      "       'Actual Price', 'Discount Percentage', 'Ratings', 'Total Ratings',\n",
      "       'about_product', 'user_id', 'review_title', 'review_content'],\n",
      "      dtype='object')\n"
     ]
    }
   ],
   "source": [
    "# Dropping the columns 'img_link' and 'product_link' permanently\n",
    "df.drop(['img_link', 'product_link','user_name','review_id'], axis=1, inplace=True)\n",
    "\n",
    "# Display the DataFrame to confirm the columns are removed\n",
    "print(df.columns)"
   ]
  },
  {
   "cell_type": "code",
   "execution_count": 78,
   "id": "edd12cc3-432a-4cbe-8337-300053bcd4fd",
   "metadata": {},
   "outputs": [
    {
     "data": {
      "text/plain": [
       "(1400, 12)"
      ]
     },
     "execution_count": 78,
     "metadata": {},
     "output_type": "execute_result"
    }
   ],
   "source": [
    "df.drop_duplicates(inplace=True)\n",
    "df.shape"
   ]
  },
  {
   "cell_type": "code",
   "execution_count": 79,
   "id": "93f07f7f-8c5d-46ff-aa67-f091d8a60042",
   "metadata": {},
   "outputs": [
    {
     "data": {
      "text/plain": [
       "Product ID             0\n",
       "Product Name           0\n",
       "Category               0\n",
       "Discounted Price       0\n",
       "Actual Price           0\n",
       "Discount Percentage    0\n",
       "Ratings                0\n",
       "Total Ratings          2\n",
       "about_product          0\n",
       "user_id                0\n",
       "review_title           0\n",
       "review_content         0\n",
       "dtype: int64"
      ]
     },
     "execution_count": 79,
     "metadata": {},
     "output_type": "execute_result"
    }
   ],
   "source": [
    "df.isnull().sum()"
   ]
  },
  {
   "cell_type": "code",
   "execution_count": 80,
   "id": "c793e484-ed58-4df6-8bc6-5893ff81728d",
   "metadata": {},
   "outputs": [
    {
     "name": "stdout",
     "output_type": "stream",
     "text": [
      "Discounted Price    int64\n",
      "Actual Price        int64\n",
      "Total Ratings       int64\n",
      "dtype: object\n"
     ]
    }
   ],
   "source": [
    "df['Discounted Price'] = pd.to_numeric(df['Discounted Price'], errors='coerce').fillna(0).astype(int)\n",
    "df['Actual Price'] = pd.to_numeric(df['Actual Price'], errors='coerce').fillna(0).astype(int)\n",
    "df['Total Ratings'] = pd.to_numeric(df['Total Ratings'], errors='coerce').fillna(0).astype(int)\n",
    "\n",
    "\n",
    "# Display the DataFrame to confirm the changes\n",
    "print(df[['Discounted Price', 'Actual Price', 'Total Ratings']].dtypes)\n"
   ]
  },
  {
   "cell_type": "code",
   "execution_count": 81,
   "id": "5d78aa54-9bb8-4c9b-9995-fb5f8fa04ec9",
   "metadata": {},
   "outputs": [],
   "source": [
    "df['Ratings'] = pd.to_numeric(df['Ratings'], errors='coerce').fillna(0).astype(int)"
   ]
  },
  {
   "cell_type": "code",
   "execution_count": 82,
   "id": "be4b960c-a212-4d35-b2f5-4776973489e5",
   "metadata": {},
   "outputs": [
    {
     "data": {
      "text/plain": [
       "Product ID             object\n",
       "Product Name           object\n",
       "Category               object\n",
       "Discounted Price        int64\n",
       "Actual Price            int64\n",
       "Discount Percentage    object\n",
       "Ratings                 int64\n",
       "Total Ratings           int64\n",
       "about_product          object\n",
       "user_id                object\n",
       "review_title           object\n",
       "review_content         object\n",
       "dtype: object"
      ]
     },
     "execution_count": 82,
     "metadata": {},
     "output_type": "execute_result"
    }
   ],
   "source": [
    "df.dtypes"
   ]
  },
  {
   "cell_type": "code",
   "execution_count": 83,
   "id": "432a7676-9af2-4039-8ea8-eb515f17ba3a",
   "metadata": {},
   "outputs": [
    {
     "data": {
      "text/html": [
       "<div>\n",
       "<style scoped>\n",
       "    .dataframe tbody tr th:only-of-type {\n",
       "        vertical-align: middle;\n",
       "    }\n",
       "\n",
       "    .dataframe tbody tr th {\n",
       "        vertical-align: top;\n",
       "    }\n",
       "\n",
       "    .dataframe thead th {\n",
       "        text-align: right;\n",
       "    }\n",
       "</style>\n",
       "<table border=\"1\" class=\"dataframe\">\n",
       "  <thead>\n",
       "    <tr style=\"text-align: right;\">\n",
       "      <th></th>\n",
       "      <th>Product ID</th>\n",
       "      <th>Product Name</th>\n",
       "      <th>Category</th>\n",
       "      <th>Discounted Price</th>\n",
       "      <th>Actual Price</th>\n",
       "      <th>Discount Percentage</th>\n",
       "      <th>Ratings</th>\n",
       "      <th>Total Ratings</th>\n",
       "      <th>about_product</th>\n",
       "      <th>user_id</th>\n",
       "      <th>review_title</th>\n",
       "      <th>review_content</th>\n",
       "    </tr>\n",
       "  </thead>\n",
       "  <tbody>\n",
       "    <tr>\n",
       "      <th>0</th>\n",
       "      <td>B07JW9H4J1</td>\n",
       "      <td>Wayona Nylon Braided USB to Lightning Fast Cha...</td>\n",
       "      <td>Computers&amp;Accessories</td>\n",
       "      <td>399</td>\n",
       "      <td>1099</td>\n",
       "      <td>64%</td>\n",
       "      <td>4</td>\n",
       "      <td>24269</td>\n",
       "      <td>High Compatibility : Compatible With iPhone 12...</td>\n",
       "      <td>AG3D6O4STAQKAY2UVGEUV46KN35Q,AHMY5CWJMMK5BJRBB...</td>\n",
       "      <td>Satisfied,Charging is really fast,Value for mo...</td>\n",
       "      <td>Looks durable Charging is fine tooNo complains...</td>\n",
       "    </tr>\n",
       "    <tr>\n",
       "      <th>1</th>\n",
       "      <td>B098NS6PVG</td>\n",
       "      <td>Ambrane Unbreakable 60W / 3A Fast Charging 1.5...</td>\n",
       "      <td>Computers&amp;Accessories</td>\n",
       "      <td>199</td>\n",
       "      <td>349</td>\n",
       "      <td>43%</td>\n",
       "      <td>4</td>\n",
       "      <td>43994</td>\n",
       "      <td>Compatible with all Type C enabled devices, be...</td>\n",
       "      <td>AECPFYFQVRUWC3KGNLJIOREFP5LQ,AGYYVPDD7YG7FYNBX...</td>\n",
       "      <td>A Good Braided Cable for Your Type C Device,Go...</td>\n",
       "      <td>I ordered this cable to connect my phone to An...</td>\n",
       "    </tr>\n",
       "    <tr>\n",
       "      <th>2</th>\n",
       "      <td>B096MSW6CT</td>\n",
       "      <td>Sounce Fast Phone Charging Cable &amp; Data Sync U...</td>\n",
       "      <td>Computers&amp;Accessories</td>\n",
       "      <td>199</td>\n",
       "      <td>1899</td>\n",
       "      <td>90%</td>\n",
       "      <td>3</td>\n",
       "      <td>7928</td>\n",
       "      <td>ã Fast Charger&amp; Data Syncã-With built-in s...</td>\n",
       "      <td>AGU3BBQ2V2DDAMOAKGFAWDDQ6QHA,AESFLDV2PT363T2AQ...</td>\n",
       "      <td>Good speed for earlier versions,Good Product,W...</td>\n",
       "      <td>Not quite durable and sturdy,https://m.media-a...</td>\n",
       "    </tr>\n",
       "    <tr>\n",
       "      <th>3</th>\n",
       "      <td>B08HDJ86NZ</td>\n",
       "      <td>boAt Deuce USB 300 2 in 1 Type-C &amp; Micro USB S...</td>\n",
       "      <td>Computers&amp;Accessories</td>\n",
       "      <td>329</td>\n",
       "      <td>699</td>\n",
       "      <td>53%</td>\n",
       "      <td>4</td>\n",
       "      <td>94363</td>\n",
       "      <td>The boAt Deuce USB 300 2 in 1 cable is compati...</td>\n",
       "      <td>AEWAZDZZJLQUYVOVGBEUKSLXHQ5A,AG5HTSFRRE6NL3M5S...</td>\n",
       "      <td>Good product,Good one,Nice,Really nice product...</td>\n",
       "      <td>Good product,long wire,Charges good,Nice,I bou...</td>\n",
       "    </tr>\n",
       "    <tr>\n",
       "      <th>4</th>\n",
       "      <td>B08CF3B7N1</td>\n",
       "      <td>Portronics Konnect L 1.2M Fast Charging 3A 8 P...</td>\n",
       "      <td>Computers&amp;Accessories</td>\n",
       "      <td>154</td>\n",
       "      <td>399</td>\n",
       "      <td>61%</td>\n",
       "      <td>4</td>\n",
       "      <td>16905</td>\n",
       "      <td>[CHARGE &amp; SYNC FUNCTION]- This cable comes wit...</td>\n",
       "      <td>AE3Q6KSUK5P75D5HFYHCRAOLODSA,AFUGIFH5ZAFXRDSZH...</td>\n",
       "      <td>As good as original,Decent,Good one for second...</td>\n",
       "      <td>Bought this instead of original apple, does th...</td>\n",
       "    </tr>\n",
       "  </tbody>\n",
       "</table>\n",
       "</div>"
      ],
      "text/plain": [
       "   Product ID                                       Product Name  \\\n",
       "0  B07JW9H4J1  Wayona Nylon Braided USB to Lightning Fast Cha...   \n",
       "1  B098NS6PVG  Ambrane Unbreakable 60W / 3A Fast Charging 1.5...   \n",
       "2  B096MSW6CT  Sounce Fast Phone Charging Cable & Data Sync U...   \n",
       "3  B08HDJ86NZ  boAt Deuce USB 300 2 in 1 Type-C & Micro USB S...   \n",
       "4  B08CF3B7N1  Portronics Konnect L 1.2M Fast Charging 3A 8 P...   \n",
       "\n",
       "                Category  Discounted Price  Actual Price Discount Percentage  \\\n",
       "0  Computers&Accessories               399          1099                 64%   \n",
       "1  Computers&Accessories               199           349                 43%   \n",
       "2  Computers&Accessories               199          1899                 90%   \n",
       "3  Computers&Accessories               329           699                 53%   \n",
       "4  Computers&Accessories               154           399                 61%   \n",
       "\n",
       "   Ratings  Total Ratings                                      about_product  \\\n",
       "0        4          24269  High Compatibility : Compatible With iPhone 12...   \n",
       "1        4          43994  Compatible with all Type C enabled devices, be...   \n",
       "2        3           7928  ã Fast Charger& Data Syncã-With built-in s...   \n",
       "3        4          94363  The boAt Deuce USB 300 2 in 1 cable is compati...   \n",
       "4        4          16905  [CHARGE & SYNC FUNCTION]- This cable comes wit...   \n",
       "\n",
       "                                             user_id  \\\n",
       "0  AG3D6O4STAQKAY2UVGEUV46KN35Q,AHMY5CWJMMK5BJRBB...   \n",
       "1  AECPFYFQVRUWC3KGNLJIOREFP5LQ,AGYYVPDD7YG7FYNBX...   \n",
       "2  AGU3BBQ2V2DDAMOAKGFAWDDQ6QHA,AESFLDV2PT363T2AQ...   \n",
       "3  AEWAZDZZJLQUYVOVGBEUKSLXHQ5A,AG5HTSFRRE6NL3M5S...   \n",
       "4  AE3Q6KSUK5P75D5HFYHCRAOLODSA,AFUGIFH5ZAFXRDSZH...   \n",
       "\n",
       "                                        review_title  \\\n",
       "0  Satisfied,Charging is really fast,Value for mo...   \n",
       "1  A Good Braided Cable for Your Type C Device,Go...   \n",
       "2  Good speed for earlier versions,Good Product,W...   \n",
       "3  Good product,Good one,Nice,Really nice product...   \n",
       "4  As good as original,Decent,Good one for second...   \n",
       "\n",
       "                                      review_content  \n",
       "0  Looks durable Charging is fine tooNo complains...  \n",
       "1  I ordered this cable to connect my phone to An...  \n",
       "2  Not quite durable and sturdy,https://m.media-a...  \n",
       "3  Good product,long wire,Charges good,Nice,I bou...  \n",
       "4  Bought this instead of original apple, does th...  "
      ]
     },
     "execution_count": 83,
     "metadata": {},
     "output_type": "execute_result"
    }
   ],
   "source": [
    "df['Category'] = df['Category'].str.split('|').str[0]\n",
    "df.head()"
   ]
  },
  {
   "cell_type": "code",
   "execution_count": 84,
   "id": "50b26c50-d3c3-456a-ac74-086d52d4c441",
   "metadata": {},
   "outputs": [
    {
     "data": {
      "text/html": [
       "<div>\n",
       "<style scoped>\n",
       "    .dataframe tbody tr th:only-of-type {\n",
       "        vertical-align: middle;\n",
       "    }\n",
       "\n",
       "    .dataframe tbody tr th {\n",
       "        vertical-align: top;\n",
       "    }\n",
       "\n",
       "    .dataframe thead th {\n",
       "        text-align: right;\n",
       "    }\n",
       "</style>\n",
       "<table border=\"1\" class=\"dataframe\">\n",
       "  <thead>\n",
       "    <tr style=\"text-align: right;\">\n",
       "      <th></th>\n",
       "      <th>Discounted Price</th>\n",
       "      <th>Actual Price</th>\n",
       "      <th>Ratings</th>\n",
       "      <th>Total Ratings</th>\n",
       "    </tr>\n",
       "  </thead>\n",
       "  <tbody>\n",
       "    <tr>\n",
       "      <th>count</th>\n",
       "      <td>1400.000000</td>\n",
       "      <td>1400.000000</td>\n",
       "      <td>1400.000000</td>\n",
       "      <td>1400.000000</td>\n",
       "    </tr>\n",
       "    <tr>\n",
       "      <th>mean</th>\n",
       "      <td>3229.766429</td>\n",
       "      <td>5613.667143</td>\n",
       "      <td>3.746429</td>\n",
       "      <td>18482.938571</td>\n",
       "    </tr>\n",
       "    <tr>\n",
       "      <th>std</th>\n",
       "      <td>7069.038801</td>\n",
       "      <td>11064.373010</td>\n",
       "      <td>0.459186</td>\n",
       "      <td>43495.092889</td>\n",
       "    </tr>\n",
       "    <tr>\n",
       "      <th>min</th>\n",
       "      <td>39.000000</td>\n",
       "      <td>39.000000</td>\n",
       "      <td>0.000000</td>\n",
       "      <td>0.000000</td>\n",
       "    </tr>\n",
       "    <tr>\n",
       "      <th>25%</th>\n",
       "      <td>344.000000</td>\n",
       "      <td>899.000000</td>\n",
       "      <td>4.000000</td>\n",
       "      <td>1173.000000</td>\n",
       "    </tr>\n",
       "    <tr>\n",
       "      <th>50%</th>\n",
       "      <td>849.500000</td>\n",
       "      <td>1699.000000</td>\n",
       "      <td>4.000000</td>\n",
       "      <td>5065.500000</td>\n",
       "    </tr>\n",
       "    <tr>\n",
       "      <th>75%</th>\n",
       "      <td>2096.000000</td>\n",
       "      <td>4612.500000</td>\n",
       "      <td>4.000000</td>\n",
       "      <td>17413.500000</td>\n",
       "    </tr>\n",
       "    <tr>\n",
       "      <th>max</th>\n",
       "      <td>77990.000000</td>\n",
       "      <td>139900.000000</td>\n",
       "      <td>5.000000</td>\n",
       "      <td>426973.000000</td>\n",
       "    </tr>\n",
       "  </tbody>\n",
       "</table>\n",
       "</div>"
      ],
      "text/plain": [
       "       Discounted Price   Actual Price      Ratings  Total Ratings\n",
       "count       1400.000000    1400.000000  1400.000000    1400.000000\n",
       "mean        3229.766429    5613.667143     3.746429   18482.938571\n",
       "std         7069.038801   11064.373010     0.459186   43495.092889\n",
       "min           39.000000      39.000000     0.000000       0.000000\n",
       "25%          344.000000     899.000000     4.000000    1173.000000\n",
       "50%          849.500000    1699.000000     4.000000    5065.500000\n",
       "75%         2096.000000    4612.500000     4.000000   17413.500000\n",
       "max        77990.000000  139900.000000     5.000000  426973.000000"
      ]
     },
     "execution_count": 84,
     "metadata": {},
     "output_type": "execute_result"
    }
   ],
   "source": [
    "df.describe()"
   ]
  },
  {
   "cell_type": "code",
   "execution_count": 85,
   "id": "b9b7e345-1ec2-4ca6-8987-7beeb5b41913",
   "metadata": {},
   "outputs": [
    {
     "data": {
      "text/plain": [
       "Text(0, 0.5, 'Count')"
      ]
     },
     "execution_count": 85,
     "metadata": {},
     "output_type": "execute_result"
    },
    {
     "data": {
      "image/png": "[encoded data removed]",
      "text/plain": [
       "<Figure size 1100x600 with 1 Axes>"
      ]
     },
     "metadata": {},
     "output_type": "display_data"
    }
   ],
   "source": [
    "Categories = df['Category'].value_counts().head(3)  # Get top 3 categories\n",
    "ab = sea.countplot(x='Category', data=df, order=Categories.index)  # Use order for top categories\n",
    "\n",
    "for bars in ab.containers:\n",
    "    ab.bar_label(bars)\n",
    "    \n",
    "sea.set(rc = {'figure.figsize' : (11,6)})\n",
    "\n",
    "ab.set_title('Top 3 Categories Preferred by Users')\n",
    "ab.set_xlabel('Category')\n",
    "ab.set_ylabel('Count')"
   ]
  },
  {
   "cell_type": "code",
   "execution_count": 86,
   "id": "86c3bc8c-b698-4d73-a9eb-88a62ebca0a0",
   "metadata": {},
   "outputs": [],
   "source": [
    "#The graph above illustrates the top three categories most favored by Amazon users. Among these, electronics emerge as the leading category,indicating that the best-selling products on Amazon predominantly belong to this segment."
   ]
  },
  {
   "cell_type": "code",
   "execution_count": 87,
   "id": "e72c1157-b43f-40b6-be0d-13164a90f22a",
   "metadata": {},
   "outputs": [
    {
     "data": {
      "image/png": "[encoded data removed]",
      "text/plain": [
       "<Figure size 1500x600 with 1 Axes>"
      ]
     },
     "metadata": {},
     "output_type": "display_data"
    }
   ],
   "source": [
    "#Grouping\n",
    "Sales = df.groupby(['Category'], as_index=False)['Discounted Price'].sum().sort_values(by='Discounted Price', ascending=False).head(5)\n",
    "\n",
    "plt.figure(figsize=(15, 6))\n",
    "a = plt.bar(Sales['Category'], Sales['Discounted Price'])\n",
    "\n",
    "# Adding data labels\n",
    "plt.bar_label(a, fmt='%.0f')\n",
    "\n",
    "plt.title('Top 5 Product Categories with Highest Revenue Generated')\n",
    "plt.xlabel('Category')\n",
    "plt.ylabel('Total Sales')\n",
    "\n",
    "plt.show()\n"
   ]
  },
  {
   "cell_type": "code",
   "execution_count": 88,
   "id": "79d46b39-3a8c-4082-bbd5-cdbfe2cb19d6",
   "metadata": {},
   "outputs": [],
   "source": [
    "#The graph above depicts the total sales generated across each category, with the Electronics category emerging as the leading contributor to revenue."
   ]
  },
  {
   "cell_type": "code",
   "execution_count": 89,
   "id": "ac11c982-9c9a-417a-bafe-4c727953a411",
   "metadata": {},
   "outputs": [
    {
     "name": "stdout",
     "output_type": "stream",
     "text": [
      "Summary of Product Category Price\n"
     ]
    },
    {
     "data": {
      "text/html": [
       "<style type=\"text/css\">\n",
       "</style>\n",
       "<table id=\"T_14b0e\">\n",
       "  <thead>\n",
       "    <tr>\n",
       "      <th id=\"T_14b0e_level0_col0\" class=\"col_heading level0 col0\" >Category</th>\n",
       "      <th id=\"T_14b0e_level0_col1\" class=\"col_heading level0 col1\" >Actual Price</th>\n",
       "      <th id=\"T_14b0e_level0_col2\" class=\"col_heading level0 col2\" >Discounted Price</th>\n",
       "    </tr>\n",
       "  </thead>\n",
       "  <tbody>\n",
       "    <tr>\n",
       "      <td id=\"T_14b0e_row0_col0\" class=\"data row0 col0\" >Electronics</td>\n",
       "      <td id=\"T_14b0e_row0_col1\" class=\"data row0 col1\" >5257885</td>\n",
       "      <td id=\"T_14b0e_row0_col2\" class=\"data row0 col2\" >3101460</td>\n",
       "    </tr>\n",
       "    <tr>\n",
       "      <td id=\"T_14b0e_row1_col0\" class=\"data row1 col0\" >Home&Kitchen</td>\n",
       "      <td id=\"T_14b0e_row1_col1\" class=\"data row1 col1\" >1864609</td>\n",
       "      <td id=\"T_14b0e_row1_col2\" class=\"data row1 col2\" >1044112</td>\n",
       "    </tr>\n",
       "    <tr>\n",
       "      <td id=\"T_14b0e_row2_col0\" class=\"data row2 col0\" >Computers&Accessories</td>\n",
       "      <td id=\"T_14b0e_row2_col1\" class=\"data row2 col1\" >713985</td>\n",
       "      <td id=\"T_14b0e_row2_col2\" class=\"data row2 col2\" >361414</td>\n",
       "    </tr>\n",
       "    <tr>\n",
       "      <td id=\"T_14b0e_row3_col0\" class=\"data row3 col0\" >OfficeProducts</td>\n",
       "      <td id=\"T_14b0e_row3_col1\" class=\"data row3 col1\" >12313</td>\n",
       "      <td id=\"T_14b0e_row3_col2\" class=\"data row3 col2\" >9349</td>\n",
       "    </tr>\n",
       "    <tr>\n",
       "      <td id=\"T_14b0e_row4_col0\" class=\"data row4 col0\" >Car&Motorbike</td>\n",
       "      <td id=\"T_14b0e_row4_col1\" class=\"data row4 col1\" >4000</td>\n",
       "      <td id=\"T_14b0e_row4_col2\" class=\"data row4 col2\" >2339</td>\n",
       "    </tr>\n",
       "    <tr>\n",
       "      <td id=\"T_14b0e_row5_col0\" class=\"data row5 col0\" >MusicalInstruments</td>\n",
       "      <td id=\"T_14b0e_row5_col1\" class=\"data row5 col1\" >2694</td>\n",
       "      <td id=\"T_14b0e_row5_col2\" class=\"data row5 col2\" >1276</td>\n",
       "    </tr>\n",
       "    <tr>\n",
       "      <td id=\"T_14b0e_row6_col0\" class=\"data row6 col0\" >Health&PersonalCare</td>\n",
       "      <td id=\"T_14b0e_row6_col1\" class=\"data row6 col1\" >1900</td>\n",
       "      <td id=\"T_14b0e_row6_col2\" class=\"data row6 col2\" >899</td>\n",
       "    </tr>\n",
       "    <tr>\n",
       "      <td id=\"T_14b0e_row7_col0\" class=\"data row7 col0\" >HomeImprovement</td>\n",
       "      <td id=\"T_14b0e_row7_col1\" class=\"data row7 col1\" >1598</td>\n",
       "      <td id=\"T_14b0e_row7_col2\" class=\"data row7 col2\" >674</td>\n",
       "    </tr>\n",
       "    <tr>\n",
       "      <td id=\"T_14b0e_row8_col0\" class=\"data row8 col0\" >Toys&Games</td>\n",
       "      <td id=\"T_14b0e_row8_col1\" class=\"data row8 col1\" >150</td>\n",
       "      <td id=\"T_14b0e_row8_col2\" class=\"data row8 col2\" >150</td>\n",
       "    </tr>\n",
       "  </tbody>\n",
       "</table>\n"
      ],
      "text/plain": [
       "<pandas.io.formats.style.Styler at 0x2545e9a16d0>"
      ]
     },
     "metadata": {},
     "output_type": "display_data"
    }
   ],
   "source": [
    "#Grouping \n",
    "Sales = df.groupby(['Category'], as_index=False)[['Actual Price','Discounted Price']].sum().sort_values(by='Actual Price', ascending=False)\n",
    "\n",
    "# Display the summarized data in a table\n",
    "print(\"Summary of Product Category Price\")\n",
    "display(Sales.style.hide(axis=\"index\"))"
   ]
  },
  {
   "cell_type": "code",
   "execution_count": 90,
   "id": "25103396-df33-48c5-9b73-e0770fcc9d0e",
   "metadata": {},
   "outputs": [],
   "source": [
    "#The summary table above presents the actual and discounted prices across various product categories."
   ]
  },
  {
   "cell_type": "code",
   "execution_count": 91,
   "id": "ec2fc294-b26b-4c23-9d07-485f0a891d44",
   "metadata": {},
   "outputs": [
    {
     "name": "stdout",
     "output_type": "stream",
     "text": [
      "0       63.69\n",
      "1       42.98\n",
      "2       89.52\n",
      "3       52.93\n",
      "4       61.40\n",
      "        ...  \n",
      "1460    58.76\n",
      "1461    25.12\n",
      "1462    27.95\n",
      "1463    25.98\n",
      "1464    22.41\n",
      "Name: Discount%, Length: 1400, dtype: float64\n"
     ]
    }
   ],
   "source": [
    "df['Discount%'] = (1 - (df['Discounted Price'] / df['Actual Price'])) * 100\n",
    "\n",
    "# Format the Discount Percentage to 2 decimal places and add a percent sign\n",
    "df['Discount%'] = (df['Discount%'].round(2))\n",
    "\n",
    "# Display the updated DataFrame\n",
    "print(df['Discount%'])\n"
   ]
  },
  {
   "cell_type": "code",
   "execution_count": 92,
   "id": "3d055cd0-b886-44dc-8b31-1251334578a9",
   "metadata": {},
   "outputs": [
    {
     "data": {
      "image/png": "[encoded data removed]",
      "text/plain": [
       "<Figure size 1500x600 with 1 Axes>"
      ]
     },
     "metadata": {},
     "output_type": "display_data"
    }
   ],
   "source": [
    "#Grouping\n",
    "Sales = df.groupby(['Category'], as_index=False)['Discount%'].mean().sort_values(by='Discount%', ascending=False).head(5)\n",
    "#adjust the size of graph\n",
    "plt.figure(figsize=(15, 6))\n",
    "\n",
    "#Plotting of axis\n",
    "a = plt.bar(Sales['Category'], Sales['Discount%'], color='skyblue')\n",
    "\n",
    "# Adding data labels\n",
    "plt.bar_label(a, fmt='%.0f%%')\n",
    "\n",
    "#Adding titles\n",
    "plt.title('Top 5 Product Categories with Highest Discounts')\n",
    "plt.xlabel('Category')\n",
    "plt.ylabel('Discount%')\n",
    "\n",
    "plt.show()\n"
   ]
  },
  {
   "cell_type": "code",
   "execution_count": 93,
   "id": "762df5e8-2a35-4038-ba08-2b0de51b7fc8",
   "metadata": {},
   "outputs": [],
   "source": [
    "#The graph above illustrates the maximum discounts offered by Amazon across different product categories, with Home Improvement featuring the highest discount."
   ]
  },
  {
   "cell_type": "code",
   "execution_count": 97,
   "id": "c3cfa9e7-e580-4b8e-8504-e3d12fc52801",
   "metadata": {},
   "outputs": [
    {
     "data": {
      "image/png": "[encoded data removed]",
      "text/plain": [
       "<Figure size 1100x600 with 1 Axes>"
      ]
     },
     "metadata": {},
     "output_type": "display_data"
    }
   ],
   "source": [
    "#display top category\n",
    "Top = df['Category'].value_counts().head(1).index\n",
    "filtered_df = df[df['Category'].isin(Top)]\n",
    "#palette used for different colors on legends\n",
    "a = sea.countplot(x= 'Category', hue= 'Ratings' , data = filtered_df, palette='Set2') \n",
    "\n",
    "#to add data labels\n",
    "for bars in a.containers:\n",
    "    a.bar_label(bars)\n",
    "\n",
    "#to add title\n",
    "plt.title('Highest Rated Product Category by Users')\n",
    "plt.show()"
   ]
  },
  {
   "cell_type": "code",
   "execution_count": 98,
   "id": "9f986256-7089-42b4-892c-2378e24ecc0d",
   "metadata": {},
   "outputs": [],
   "source": [
    "# Above graph displays highest rated category. So, Electronics are highest rated category products on amazon. So, to get the best quality for electronics go with amazon."
   ]
  },
  {
   "cell_type": "code",
   "execution_count": null,
   "id": "cb8505f6-d023-46c1-8b4e-48957bddd7a3",
   "metadata": {},
   "outputs": [],
   "source": []
  }
 ],
 "metadata": {
  "kernelspec": {
   "display_name": "Python 3 (ipykernel)",
   "language": "python",
   "name": "python3"
  },
  "language_info": {
   "codemirror_mode": {
    "name": "ipython",
    "version": 3
   },
   "file_extension": ".py",
   "mimetype": "text/x-python",
   "name": "python",
   "nbconvert_exporter": "python",
   "pygments_lexer": "ipython3",
   "version": "3.13.0"
  }
 },
 "nbformat": 4,
 "nbformat_minor": 5
}
